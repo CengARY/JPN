{
 "cells": [
  {
   "cell_type": "code",
   "execution_count": null,
   "id": "faf0db0e",
   "metadata": {},
   "outputs": [],
   "source": [
    "import os\n",
    "import cv2\n",
    "import numpy as np\n",
    "from sklearn.model_selection import train_test_split\n",
    "from tensorflow.keras.models import Model\n",
    "from tensorflow.keras.layers import Input, Conv2D, MaxPooling2D, UpSampling2D, Concatenate\n"
   ]
  },
  {
   "cell_type": "code",
   "execution_count": null,
   "id": "a3fa2b90",
   "metadata": {},
   "outputs": [],
   "source": [
    "original_signature_dizini = \"Downloads/signatures/full_org\"\n",
    "forgery_signature_dizini = \"Downloads/signatures/full_forg\"\n"
   ]
  },
  {
   "cell_type": "code",
   "execution_count": null,
   "id": "50b2c54e",
   "metadata": {},
   "outputs": [],
   "source": [
    "def load_and_preprocess_data(original_dizini, forgery_dizini, img_size):\n",
    "    original_signatures = []\n",
    "    forgery_signatures = []\n",
    "\n",
    "    for filename in os.listdir(original_dizini):\n",
    "        if filename.endswith('.DS_Store'):\n",
    "            continue  # .DS_Store dosyasını görmezden gel\n",
    "        img_path = os.path.join(original_dizini, filename)\n",
    "        img = cv2.imread(img_path, cv2.IMREAD_GRAYSCALE)\n",
    "        \n",
    "        if img is None:\n",
    "            print(f\"Hata: {img_path} görüntüsü yüklenemedi!\")\n",
    "            continue\n",
    "        \n",
    "        img = cv2.resize(img, (img_size, img_size))\n",
    "        original_signatures.append(img)\n",
    "    \n",
    "    for filename in os.listdir(forgery_dizini):\n",
    "        if filename.endswith('.DS_Store'):\n",
    "            continue  # .DS_Store dosyasını görmezden gel\n",
    "        img_path = os.path.join(forgery_dizini, filename)\n",
    "        img = cv2.imread(img_path, cv2.IMREAD_GRAYSCALE)\n",
    "        \n",
    "        if img is None:\n",
    "            print(f\"Hata: {img_path} görüntüsü yüklenemedi!\")\n",
    "            continue\n",
    "        \n",
    "        img = cv2.resize(img, (img_size, img_size))\n",
    "        forgery_signatures.append(img)\n",
    "    \n",
    "    original_signatures = np.array(original_signatures, dtype=np.float32) / 255.0\n",
    "    forgery_signatures = np.array(forgery_signatures, dtype=np.float32) / 255.0\n",
    "    \n",
    "    return original_signatures, forgery_signatures\n"
   ]
  },
  {
   "cell_type": "code",
   "execution_count": null,
   "id": "6acf7d42",
   "metadata": {},
   "outputs": [],
   "source": [
    "def find_common_image_size(dizini):\n",
    "    common_size = None\n",
    "    \n",
    "    for filename in os.listdir(dizini):\n",
    "        if filename.endswith('.DS_Store'):\n",
    "            continue  # .DS_Store dosyasını görmezden gel\n",
    "        img_path = os.path.join(dizini, filename)\n",
    "        img = cv2.imread(img_path, cv2.IMREAD_GRAYSCALE)\n",
    "        \n",
    "        if img is None:\n",
    "            print(f\"Hata: {img_path} görüntüsü yüklenemedi!\")\n",
    "            continue\n",
    "        \n",
    "        if common_size is None:\n",
    "            common_size = img.shape\n",
    "        else:\n",
    "            common_size = (min(common_size[0], img.shape[0]), min(common_size[1], img.shape[1]))\n",
    "    \n",
    "    return common_size\n"
   ]
  },
  {
   "cell_type": "code",
   "execution_count": null,
   "id": "87878394",
   "metadata": {},
   "outputs": [],
   "source": [
    "common_size = find_common_image_size(original_signature_dizini)\n",
    "if common_size is None:\n",
    "    common_size = find_common_image_size(forgery_signature_dizini)\n",
    "\n",
    "# Eğer hiç görüntü yoksa veya boyutları sıfır ise varsayılan boyutu belirleme\n",
    "if common_size is None or common_size[0] == 0 or common_size[1] == 0:\n",
    "    img_size = (256, 256)  # Varsayılan boyut\n",
    "else:\n",
    "    img_size = common_size\n"
   ]
  },
  {
   "cell_type": "code",
   "execution_count": null,
   "id": "393004ba",
   "metadata": {},
   "outputs": [],
   "source": [
    "original_signatures, forgery_signatures = load_and_preprocess_data(original_signature_dizini, forgery_signature_dizini, img_size)\n"
   ]
  },
  {
   "cell_type": "code",
   "execution_count": null,
   "id": "0953ee92",
   "metadata": {},
   "outputs": [],
   "source": [
    "original_train, original_test = train_test_split(original_signatures, test_size=0.1, random_state=42)\n",
    "forgery_train, forgery_test = train_test_split(forgery_signatures, test_size=0.1, random_state=42)\n"
   ]
  },
  {
   "cell_type": "code",
   "execution_count": null,
   "id": "6e30ee47",
   "metadata": {},
   "outputs": [],
   "source": [
    "X_train = np.concatenate((original_train, forgery_train), axis=0)\n",
    "y_train = np.concatenate((np.ones(original_train.shape[0]), np.zeros(forgery_train.shape[0])), axis=0)\n",
    "X_test = np.concatenate((original_test, forgery_test), axis=0)\n",
    "y_test = np.concatenate((np.ones(original_test.shape[0]), np.zeros(forgery_test.shape[0])), axis=0)\n"
   ]
  },
  {
   "cell_type": "code",
   "execution_count": null,
   "id": "0f8368e7",
   "metadata": {},
   "outputs": [],
   "source": [
    "from tensorflow.keras.layers import Input, Conv2D, MaxPooling2D, UpSampling2D, Concatenate\n",
    "from tensorflow.keras.models import Model\n",
    "\n",
    "def unet_model(input_shape):\n",
    "    inputs = Input(input_shape)\n",
    "\n",
    "    # Kodlayıcı (Encoder) katmanlar\n",
    "    conv1 = Conv2D(64, 3, activation='relu', padding='same')(inputs)\n",
    "    conv1 = Conv2D(64, 3, activation='relu', padding='same')(conv1)\n",
    "    pool1 = MaxPooling2D(pool_size=(2, 2))(conv1)\n",
    "\n",
    "    conv2 = Conv2D(128, 3, activation='relu', padding='same')(pool1)\n",
    "    conv2 = Conv2D(128, 3, activation='relu', padding='same')(conv2)\n",
    "    pool2 = MaxPooling2D(pool_size=(2, 2))(conv2)\n",
    "\n",
    "    conv3 = Conv2D(256, 3, activation='relu', padding='same')(pool2)\n",
    "    conv3 = Conv2D(256, 3, activation='relu', padding='same')(conv3)\n",
    "    pool3 = MaxPooling2D(pool_size=(2, 2))(conv3)\n",
    "\n",
    "    conv4 = Conv2D(512, 3, activation='relu', padding='same')(pool3)\n",
    "    conv4 = Conv2D(512, 3, activation='relu', padding='same')(conv4)\n",
    "    pool4 = MaxPooling2D(pool_size=(2, 2))(conv4)\n",
    "\n",
    "    conv5 = Conv2D(1024, 3, activation='relu', padding='same')(pool4)\n",
    "    conv5 = Conv2D(1024, 3, activation='relu', padding='same')(conv5)\n",
    "\n",
    "    # Kod çözücü (Decoder) katmanlar\n",
    "    up6 = UpSampling2D(size=(2, 2))(conv5)\n",
    "    up6 = Conv2D(512, 2, activation='relu', padding='same')(up6)\n",
    "    merge6 = Concatenate(axis=3)([conv4, up6])\n",
    "    conv6 = Conv2D(512, 3, activation='relu', padding='same')(merge6)\n",
    "    conv6 = Conv2D(512, 3, activation='relu', padding='same')(conv6)\n",
    "\n",
    "    up7 = UpSampling2D(size=(2, 2))(conv6)\n",
    "    up7 = Conv2D(256, 2, activation='relu', padding='same')(up7)\n",
    "    merge7 = Concatenate(axis=3)([conv3, up7])\n",
    "    conv7 = Conv2D(256, 3, activation='relu', padding='same')(merge7)\n",
    "    conv7 = Conv2D(256, 3, activation='relu', padding='same')(conv7)\n",
    "\n",
    "    up8 = UpSampling2D(size=(2, 2))(conv7)\n",
    "    up8 = Conv2D(128, 2, activation='relu', padding='same')(up8)\n",
    "    merge8 = Concatenate(axis=3)([conv2, up8])\n",
    "    conv8 = Conv2D(128, 3, activation='relu', padding='same')(merge8)\n",
    "    conv8 = Conv2D(128, 3, activation='relu', padding='same')(conv8)\n",
    "\n",
    "    up9 = UpSampling2D(size=(2, 2))(conv8)\n",
    "    up9 = Conv2D(64, 2, activation='relu', padding='same')(up9)\n",
    "    merge9 = Concatenate(axis=3)([conv1, up9])\n",
    "    conv9 = Conv2D(64, 3, activation='relu', padding='same')(merge9)\n",
    "    conv9 = Conv2D(64, 3, activation='relu', padding='same')(conv9)\n",
    "\n",
    "    # Çıkış katmanı\n",
    "    outputs = Conv2D(1, 1, activation='sigmoid')(conv9)\n",
    "\n",
    "    model = Model(inputs, outputs)\n",
    "    return model\n",
    "\n",
    "input_shape = (*img_size, 1) \n",
    "model = unet_model(input_shape)\n"
   ]
  },
  {
   "cell_type": "code",
   "execution_count": null,
   "id": "bc53a43b",
   "metadata": {},
   "outputs": [],
   "source": [
    "model.compile(optimizer='adam', loss='binary_crossentropy', metrics=['accuracy'])\n"
   ]
  },
  {
   "cell_type": "code",
   "execution_count": null,
   "id": "feaab5fa",
   "metadata": {},
   "outputs": [],
   "source": [
    "batch_size = 32\n",
    "epochs = 10\n",
    "history = model.fit(X_train, y_train, batch_size=batch_size, epochs=epochs, validation_data=(X_test, y_test))\n"
   ]
  },
  {
   "cell_type": "code",
   "execution_count": null,
   "id": "b15743e9",
   "metadata": {},
   "outputs": [],
   "source": [
    "print(history.history['accuracy']) \n",
    "print(history.history['val_accuracy'])\n"
   ]
  },
  {
   "cell_type": "code",
   "execution_count": null,
   "id": "2aa25e70",
   "metadata": {},
   "outputs": [],
   "source": [
    "test_image_path = \"test_fotograf.jpg\" \n",
    "\n",
    "\n",
    "test_img = cv2.imread(test_image_path, cv2.IMREAD_GRAYSCALE)\n",
    "test_img = cv2.resize(test_img, (img_size[1], img_size[0]))\n",
    "test_img = np.array(test_img, dtype=np.float32) / 255.0\n",
    "test_img = np.expand_dims(test_img, axis=0)  \n",
    "\n",
    "prediction = model.predict(test_img)\n",
    "\n",
    "# Tahmin sonucunu yorumlama\n",
    "threshold = 0.5  # Eşik değeri\n",
    "if prediction > threshold:\n",
    "    prediction_text = \"Bu gerçek bir imza.\"\n",
    "else:\n",
    "    prediction_text = \"Bu sahte bir imza.\"\n",
    "\n",
    "    \n",
    "import matplotlib.pyplot as plt\n",
    "\n",
    "plt.imshow(test_img[0, :, :, 0], cmap='gray')\n",
    "plt.title(\"Photo\")\n",
    "plt.axis(\"off\")\n",
    "plt.text(10, 10, prediction_text, color='green' if prediction > threshold else 'red')\n",
    "\n",
    "save_path = \"/test_result.jpg/\"\n",
    "plt.savefig(save_path, bbox_inches='tight')\n",
    "\n",
    "plt.show()\n"
   ]
  },
  {
   "cell_type": "code",
   "execution_count": null,
   "id": "264264df",
   "metadata": {},
   "outputs": [],
   "source": [
    "\n"
   ]
  }
 ],
 "metadata": {
  "kernelspec": {
   "display_name": "Python 3 (ipykernel)",
   "language": "python",
   "name": "python3"
  },
  "language_info": {
   "codemirror_mode": {
    "name": "ipython",
    "version": 3
   },
   "file_extension": ".py",
   "mimetype": "text/x-python",
   "name": "python",
   "nbconvert_exporter": "python",
   "pygments_lexer": "ipython3",
   "version": "3.11.4"
  }
 },
 "nbformat": 4,
 "nbformat_minor": 5
}
